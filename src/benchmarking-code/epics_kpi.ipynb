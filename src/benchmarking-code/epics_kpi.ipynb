{
 "cells": [
  {
   "cell_type": "markdown",
   "metadata": {},
   "source": [
    "## EPICS OPC-UA Benchmarking Data\n",
    "\n",
    "#### Physical Server"
   ]
  },
  {
   "cell_type": "code",
   "execution_count": 28,
   "metadata": {},
   "outputs": [
    {
     "name": "stdout",
     "output_type": "stream",
     "text": [
      "['physical_server_1000_PVS_100.0_ms', 'physical_server_1000_PVS_20.0_ms', 'physical_server_1000_PVS_50.0_ms', 'physical_server_100_PVS_100.0_ms', 'physical_server_100_PVS_20.0_ms', 'physical_server_100_PVS_50.0_ms', 'physical_server_2000_PVS_100.0_ms', 'physical_server_2000_PVS_20.0_ms', 'physical_server_2000_PVS_50.0_ms', 'physical_server_500_PVS_100.0_ms', 'physical_server_500_PVS_20.0_ms', 'physical_server_500_PVS_50.0_ms']\n"
     ]
    }
   ],
   "source": [
    "import os\n",
    "import numpy as np\n",
    "import pandas as pd\n",
    "\n",
    "# Get list of directories\n",
    "root='C:/Users/Shubham Balyan/Desktop/epics-benchmarking/physical_server/'\n",
    "dirlist = [ item for item in os.listdir(root) if os.path.isdir(os.path.join(root, item)) ]\n",
    "print(dirlist)"
   ]
  },
  {
   "cell_type": "code",
   "execution_count": 29,
   "metadata": {},
   "outputs": [],
   "source": [
    "def extract_info(dir_name):\n",
    "    info = dir_name.split('_')\n",
    "    return int(info[2]), float(info[4])"
   ]
  },
  {
   "cell_type": "code",
   "execution_count": 30,
   "metadata": {},
   "outputs": [
    {
     "data": {
      "text/html": [
       "<div>\n",
       "<style scoped>\n",
       "    .dataframe tbody tr th:only-of-type {\n",
       "        vertical-align: middle;\n",
       "    }\n",
       "\n",
       "    .dataframe tbody tr th {\n",
       "        vertical-align: top;\n",
       "    }\n",
       "\n",
       "    .dataframe thead th {\n",
       "        text-align: right;\n",
       "    }\n",
       "</style>\n",
       "<table border=\"1\" class=\"dataframe\">\n",
       "  <thead>\n",
       "    <tr style=\"text-align: right;\">\n",
       "      <th></th>\n",
       "      <th>Number of PVs</th>\n",
       "      <th>Time Interval</th>\n",
       "      <th>Avg Delay Fault (in ms) PS</th>\n",
       "      <th>Avg Data Loss PS</th>\n",
       "    </tr>\n",
       "  </thead>\n",
       "  <tbody>\n",
       "    <tr>\n",
       "      <th>0</th>\n",
       "      <td>1000</td>\n",
       "      <td>100.0</td>\n",
       "      <td>127.6480</td>\n",
       "      <td>0.0940</td>\n",
       "    </tr>\n",
       "    <tr>\n",
       "      <th>1</th>\n",
       "      <td>1000</td>\n",
       "      <td>20.0</td>\n",
       "      <td>35.0040</td>\n",
       "      <td>0.7710</td>\n",
       "    </tr>\n",
       "    <tr>\n",
       "      <th>2</th>\n",
       "      <td>1000</td>\n",
       "      <td>50.0</td>\n",
       "      <td>72.0180</td>\n",
       "      <td>0.2150</td>\n",
       "    </tr>\n",
       "    <tr>\n",
       "      <th>3</th>\n",
       "      <td>100</td>\n",
       "      <td>100.0</td>\n",
       "      <td>119.8200</td>\n",
       "      <td>0.1600</td>\n",
       "    </tr>\n",
       "    <tr>\n",
       "      <th>4</th>\n",
       "      <td>100</td>\n",
       "      <td>20.0</td>\n",
       "      <td>32.3440</td>\n",
       "      <td>0.8320</td>\n",
       "    </tr>\n",
       "    <tr>\n",
       "      <th>5</th>\n",
       "      <td>100</td>\n",
       "      <td>50.0</td>\n",
       "      <td>75.8100</td>\n",
       "      <td>0.2400</td>\n",
       "    </tr>\n",
       "    <tr>\n",
       "      <th>6</th>\n",
       "      <td>2000</td>\n",
       "      <td>100.0</td>\n",
       "      <td>137.6880</td>\n",
       "      <td>0.1110</td>\n",
       "    </tr>\n",
       "    <tr>\n",
       "      <th>7</th>\n",
       "      <td>2000</td>\n",
       "      <td>20.0</td>\n",
       "      <td>29.1990</td>\n",
       "      <td>0.7930</td>\n",
       "    </tr>\n",
       "    <tr>\n",
       "      <th>8</th>\n",
       "      <td>2000</td>\n",
       "      <td>50.0</td>\n",
       "      <td>75.4835</td>\n",
       "      <td>0.2465</td>\n",
       "    </tr>\n",
       "    <tr>\n",
       "      <th>9</th>\n",
       "      <td>500</td>\n",
       "      <td>100.0</td>\n",
       "      <td>133.1280</td>\n",
       "      <td>0.0920</td>\n",
       "    </tr>\n",
       "    <tr>\n",
       "      <th>10</th>\n",
       "      <td>500</td>\n",
       "      <td>20.0</td>\n",
       "      <td>33.3060</td>\n",
       "      <td>0.7940</td>\n",
       "    </tr>\n",
       "    <tr>\n",
       "      <th>11</th>\n",
       "      <td>500</td>\n",
       "      <td>50.0</td>\n",
       "      <td>73.4580</td>\n",
       "      <td>0.2080</td>\n",
       "    </tr>\n",
       "  </tbody>\n",
       "</table>\n",
       "</div>"
      ],
      "text/plain": [
       "    Number of PVs  Time Interval  Avg Delay Fault (in ms) PS  Avg Data Loss PS\n",
       "0            1000          100.0                    127.6480            0.0940\n",
       "1            1000           20.0                     35.0040            0.7710\n",
       "2            1000           50.0                     72.0180            0.2150\n",
       "3             100          100.0                    119.8200            0.1600\n",
       "4             100           20.0                     32.3440            0.8320\n",
       "5             100           50.0                     75.8100            0.2400\n",
       "6            2000          100.0                    137.6880            0.1110\n",
       "7            2000           20.0                     29.1990            0.7930\n",
       "8            2000           50.0                     75.4835            0.2465\n",
       "9             500          100.0                    133.1280            0.0920\n",
       "10            500           20.0                     33.3060            0.7940\n",
       "11            500           50.0                     73.4580            0.2080"
      ]
     },
     "execution_count": 30,
     "metadata": {},
     "output_type": "execute_result"
    }
   ],
   "source": [
    "d = []\n",
    "np.random.seed(20)\n",
    "for dirs in dirlist:\n",
    "    n, interval = extract_info(dirs)\n",
    "    files = os.listdir(root+dirs)\n",
    "    random_files = np.random.choice(files, int(len(files)*.05))\n",
    "    file_avg_fault = 0\n",
    "    file_avg_loss = 0\n",
    "    for random_file in random_files:\n",
    "        data_f = pd.read_csv(root+dirs+'/'+random_file)\n",
    "        file_avg_fault = file_avg_fault + data_f['Delta'].mean()\n",
    "        data_f['Match'] = np.where(data_f['Value Written'] == data_f['Value Read'], 'Y', 'N')\n",
    "        loss_per_file = (data_f.Match == 'N').sum()\n",
    "        file_avg_loss = file_avg_loss + loss_per_file/data_f.shape[0]\n",
    "\n",
    "    d.append((n, interval, file_avg_fault/len(random_files), file_avg_loss/len(random_files)))\n",
    "        \n",
    "df = pd.DataFrame(d, columns=('Number of PVs', 'Time Interval', 'Avg Delay Fault (in ms) PS', 'Avg Data Loss PS'))        \n",
    "df"
   ]
  },
  {
   "cell_type": "markdown",
   "metadata": {},
   "source": [
    "#### Docker Deploy"
   ]
  },
  {
   "cell_type": "code",
   "execution_count": 31,
   "metadata": {},
   "outputs": [
    {
     "name": "stdout",
     "output_type": "stream",
     "text": [
      "['docker_deploy_1000_PVS_100.0_ms', 'docker_deploy_1000_PVS_20.0_ms', 'docker_deploy_1000_PVS_50.0_ms', 'docker_deploy_100_PVS_100.0_ms', 'docker_deploy_100_PVS_20.0_ms', 'docker_deploy_100_PVS_50.0_ms', 'docker_deploy_2000_PVS_100.0_ms', 'docker_deploy_2000_PVS_20.0_ms', 'docker_deploy_2000_PVS_50.0_ms', 'docker_deploy_500_PVS_100.0_ms', 'docker_deploy_500_PVS_20.0_ms', 'docker_deploy_500_PVS_50.0_ms']\n"
     ]
    }
   ],
   "source": [
    "# Get list of directories\n",
    "root='C:/Users/Shubham Balyan/Desktop/epics-benchmarking/docker_deploy/'\n",
    "dirlist = [ item for item in os.listdir(root) if os.path.isdir(os.path.join(root, item)) ]\n",
    "print(dirlist)"
   ]
  },
  {
   "cell_type": "code",
   "execution_count": 32,
   "metadata": {},
   "outputs": [
    {
     "data": {
      "text/html": [
       "<div>\n",
       "<style scoped>\n",
       "    .dataframe tbody tr th:only-of-type {\n",
       "        vertical-align: middle;\n",
       "    }\n",
       "\n",
       "    .dataframe tbody tr th {\n",
       "        vertical-align: top;\n",
       "    }\n",
       "\n",
       "    .dataframe thead th {\n",
       "        text-align: right;\n",
       "    }\n",
       "</style>\n",
       "<table border=\"1\" class=\"dataframe\">\n",
       "  <thead>\n",
       "    <tr style=\"text-align: right;\">\n",
       "      <th></th>\n",
       "      <th>Number of PVs</th>\n",
       "      <th>Time Interval</th>\n",
       "      <th>Avg Delay Fault (in ms) Docker</th>\n",
       "      <th>Avg Data Loss Docker</th>\n",
       "    </tr>\n",
       "  </thead>\n",
       "  <tbody>\n",
       "    <tr>\n",
       "      <th>0</th>\n",
       "      <td>1000</td>\n",
       "      <td>100.0</td>\n",
       "      <td>122.582000</td>\n",
       "      <td>0.070000</td>\n",
       "    </tr>\n",
       "    <tr>\n",
       "      <th>1</th>\n",
       "      <td>1000</td>\n",
       "      <td>20.0</td>\n",
       "      <td>38.318000</td>\n",
       "      <td>0.638000</td>\n",
       "    </tr>\n",
       "    <tr>\n",
       "      <th>2</th>\n",
       "      <td>1000</td>\n",
       "      <td>50.0</td>\n",
       "      <td>68.350000</td>\n",
       "      <td>0.217000</td>\n",
       "    </tr>\n",
       "    <tr>\n",
       "      <th>3</th>\n",
       "      <td>100</td>\n",
       "      <td>100.0</td>\n",
       "      <td>135.260000</td>\n",
       "      <td>0.100000</td>\n",
       "    </tr>\n",
       "    <tr>\n",
       "      <th>4</th>\n",
       "      <td>100</td>\n",
       "      <td>20.0</td>\n",
       "      <td>18.473333</td>\n",
       "      <td>0.820000</td>\n",
       "    </tr>\n",
       "    <tr>\n",
       "      <th>5</th>\n",
       "      <td>100</td>\n",
       "      <td>50.0</td>\n",
       "      <td>73.770000</td>\n",
       "      <td>0.240000</td>\n",
       "    </tr>\n",
       "    <tr>\n",
       "      <th>6</th>\n",
       "      <td>2000</td>\n",
       "      <td>100.0</td>\n",
       "      <td>129.225000</td>\n",
       "      <td>0.108000</td>\n",
       "    </tr>\n",
       "    <tr>\n",
       "      <th>7</th>\n",
       "      <td>2000</td>\n",
       "      <td>20.0</td>\n",
       "      <td>37.135333</td>\n",
       "      <td>0.688333</td>\n",
       "    </tr>\n",
       "    <tr>\n",
       "      <th>8</th>\n",
       "      <td>2000</td>\n",
       "      <td>50.0</td>\n",
       "      <td>81.601500</td>\n",
       "      <td>0.213000</td>\n",
       "    </tr>\n",
       "    <tr>\n",
       "      <th>9</th>\n",
       "      <td>500</td>\n",
       "      <td>100.0</td>\n",
       "      <td>124.360000</td>\n",
       "      <td>0.120000</td>\n",
       "    </tr>\n",
       "    <tr>\n",
       "      <th>10</th>\n",
       "      <td>500</td>\n",
       "      <td>20.0</td>\n",
       "      <td>36.337333</td>\n",
       "      <td>0.714667</td>\n",
       "    </tr>\n",
       "    <tr>\n",
       "      <th>11</th>\n",
       "      <td>500</td>\n",
       "      <td>50.0</td>\n",
       "      <td>71.410000</td>\n",
       "      <td>0.200000</td>\n",
       "    </tr>\n",
       "  </tbody>\n",
       "</table>\n",
       "</div>"
      ],
      "text/plain": [
       "    Number of PVs  Time Interval  Avg Delay Fault (in ms) Docker  \\\n",
       "0            1000          100.0                      122.582000   \n",
       "1            1000           20.0                       38.318000   \n",
       "2            1000           50.0                       68.350000   \n",
       "3             100          100.0                      135.260000   \n",
       "4             100           20.0                       18.473333   \n",
       "5             100           50.0                       73.770000   \n",
       "6            2000          100.0                      129.225000   \n",
       "7            2000           20.0                       37.135333   \n",
       "8            2000           50.0                       81.601500   \n",
       "9             500          100.0                      124.360000   \n",
       "10            500           20.0                       36.337333   \n",
       "11            500           50.0                       71.410000   \n",
       "\n",
       "    Avg Data Loss Docker  \n",
       "0               0.070000  \n",
       "1               0.638000  \n",
       "2               0.217000  \n",
       "3               0.100000  \n",
       "4               0.820000  \n",
       "5               0.240000  \n",
       "6               0.108000  \n",
       "7               0.688333  \n",
       "8               0.213000  \n",
       "9               0.120000  \n",
       "10              0.714667  \n",
       "11              0.200000  "
      ]
     },
     "execution_count": 32,
     "metadata": {},
     "output_type": "execute_result"
    }
   ],
   "source": [
    "d = []\n",
    "np.random.seed(20)\n",
    "for dirs in dirlist:\n",
    "    n, interval = extract_info(dirs)\n",
    "    files = os.listdir(root+dirs)\n",
    "    random_files = np.random.choice(files, int(len(files)*.05))\n",
    "    file_avg_fault = 0\n",
    "    file_avg_loss = 0\n",
    "    for random_file in random_files:\n",
    "        data_f = pd.read_csv(root+dirs+'/'+random_file)\n",
    "        file_avg_fault = file_avg_fault + data_f['Delta'].mean()\n",
    "        data_f['Match'] = np.where(data_f['Value Written'] == data_f['Value Read'], 'Y', 'N')\n",
    "        loss_per_file = (data_f.Match == 'N').sum()\n",
    "        file_avg_loss = file_avg_loss + loss_per_file/data_f.shape[0]\n",
    "\n",
    "    d.append((n, interval, file_avg_fault/len(random_files), file_avg_loss/len(random_files)))\n",
    "        \n",
    "df_d = pd.DataFrame(d, columns=('Number of PVs', 'Time Interval', 'Avg Delay Fault (in ms) Docker', 'Avg Data Loss Docker'))        \n",
    "df_d"
   ]
  },
  {
   "cell_type": "code",
   "execution_count": 33,
   "metadata": {},
   "outputs": [
    {
     "data": {
      "text/html": [
       "<div>\n",
       "<style scoped>\n",
       "    .dataframe tbody tr th:only-of-type {\n",
       "        vertical-align: middle;\n",
       "    }\n",
       "\n",
       "    .dataframe tbody tr th {\n",
       "        vertical-align: top;\n",
       "    }\n",
       "\n",
       "    .dataframe thead th {\n",
       "        text-align: right;\n",
       "    }\n",
       "</style>\n",
       "<table border=\"1\" class=\"dataframe\">\n",
       "  <thead>\n",
       "    <tr style=\"text-align: right;\">\n",
       "      <th></th>\n",
       "      <th>Number of PVs</th>\n",
       "      <th>Time Interval</th>\n",
       "      <th>Avg Delay Fault (in ms) PS</th>\n",
       "      <th>Avg Data Loss PS</th>\n",
       "      <th>Avg Delay Fault (in ms) Docker</th>\n",
       "      <th>Avg Data Loss Docker</th>\n",
       "    </tr>\n",
       "  </thead>\n",
       "  <tbody>\n",
       "    <tr>\n",
       "      <th>0</th>\n",
       "      <td>1000</td>\n",
       "      <td>100.0</td>\n",
       "      <td>127.6480</td>\n",
       "      <td>0.0940</td>\n",
       "      <td>122.582000</td>\n",
       "      <td>0.070000</td>\n",
       "    </tr>\n",
       "    <tr>\n",
       "      <th>1</th>\n",
       "      <td>1000</td>\n",
       "      <td>20.0</td>\n",
       "      <td>35.0040</td>\n",
       "      <td>0.7710</td>\n",
       "      <td>38.318000</td>\n",
       "      <td>0.638000</td>\n",
       "    </tr>\n",
       "    <tr>\n",
       "      <th>2</th>\n",
       "      <td>1000</td>\n",
       "      <td>50.0</td>\n",
       "      <td>72.0180</td>\n",
       "      <td>0.2150</td>\n",
       "      <td>68.350000</td>\n",
       "      <td>0.217000</td>\n",
       "    </tr>\n",
       "    <tr>\n",
       "      <th>3</th>\n",
       "      <td>100</td>\n",
       "      <td>100.0</td>\n",
       "      <td>119.8200</td>\n",
       "      <td>0.1600</td>\n",
       "      <td>135.260000</td>\n",
       "      <td>0.100000</td>\n",
       "    </tr>\n",
       "    <tr>\n",
       "      <th>4</th>\n",
       "      <td>100</td>\n",
       "      <td>20.0</td>\n",
       "      <td>32.3440</td>\n",
       "      <td>0.8320</td>\n",
       "      <td>18.473333</td>\n",
       "      <td>0.820000</td>\n",
       "    </tr>\n",
       "    <tr>\n",
       "      <th>5</th>\n",
       "      <td>100</td>\n",
       "      <td>50.0</td>\n",
       "      <td>75.8100</td>\n",
       "      <td>0.2400</td>\n",
       "      <td>73.770000</td>\n",
       "      <td>0.240000</td>\n",
       "    </tr>\n",
       "    <tr>\n",
       "      <th>6</th>\n",
       "      <td>2000</td>\n",
       "      <td>100.0</td>\n",
       "      <td>137.6880</td>\n",
       "      <td>0.1110</td>\n",
       "      <td>129.225000</td>\n",
       "      <td>0.108000</td>\n",
       "    </tr>\n",
       "    <tr>\n",
       "      <th>7</th>\n",
       "      <td>2000</td>\n",
       "      <td>20.0</td>\n",
       "      <td>29.1990</td>\n",
       "      <td>0.7930</td>\n",
       "      <td>37.135333</td>\n",
       "      <td>0.688333</td>\n",
       "    </tr>\n",
       "    <tr>\n",
       "      <th>8</th>\n",
       "      <td>2000</td>\n",
       "      <td>50.0</td>\n",
       "      <td>75.4835</td>\n",
       "      <td>0.2465</td>\n",
       "      <td>81.601500</td>\n",
       "      <td>0.213000</td>\n",
       "    </tr>\n",
       "    <tr>\n",
       "      <th>9</th>\n",
       "      <td>500</td>\n",
       "      <td>100.0</td>\n",
       "      <td>133.1280</td>\n",
       "      <td>0.0920</td>\n",
       "      <td>124.360000</td>\n",
       "      <td>0.120000</td>\n",
       "    </tr>\n",
       "    <tr>\n",
       "      <th>10</th>\n",
       "      <td>500</td>\n",
       "      <td>20.0</td>\n",
       "      <td>33.3060</td>\n",
       "      <td>0.7940</td>\n",
       "      <td>36.337333</td>\n",
       "      <td>0.714667</td>\n",
       "    </tr>\n",
       "    <tr>\n",
       "      <th>11</th>\n",
       "      <td>500</td>\n",
       "      <td>50.0</td>\n",
       "      <td>73.4580</td>\n",
       "      <td>0.2080</td>\n",
       "      <td>71.410000</td>\n",
       "      <td>0.200000</td>\n",
       "    </tr>\n",
       "  </tbody>\n",
       "</table>\n",
       "</div>"
      ],
      "text/plain": [
       "    Number of PVs  Time Interval  Avg Delay Fault (in ms) PS  \\\n",
       "0            1000          100.0                    127.6480   \n",
       "1            1000           20.0                     35.0040   \n",
       "2            1000           50.0                     72.0180   \n",
       "3             100          100.0                    119.8200   \n",
       "4             100           20.0                     32.3440   \n",
       "5             100           50.0                     75.8100   \n",
       "6            2000          100.0                    137.6880   \n",
       "7            2000           20.0                     29.1990   \n",
       "8            2000           50.0                     75.4835   \n",
       "9             500          100.0                    133.1280   \n",
       "10            500           20.0                     33.3060   \n",
       "11            500           50.0                     73.4580   \n",
       "\n",
       "    Avg Data Loss PS  Avg Delay Fault (in ms) Docker  Avg Data Loss Docker  \n",
       "0             0.0940                      122.582000              0.070000  \n",
       "1             0.7710                       38.318000              0.638000  \n",
       "2             0.2150                       68.350000              0.217000  \n",
       "3             0.1600                      135.260000              0.100000  \n",
       "4             0.8320                       18.473333              0.820000  \n",
       "5             0.2400                       73.770000              0.240000  \n",
       "6             0.1110                      129.225000              0.108000  \n",
       "7             0.7930                       37.135333              0.688333  \n",
       "8             0.2465                       81.601500              0.213000  \n",
       "9             0.0920                      124.360000              0.120000  \n",
       "10            0.7940                       36.337333              0.714667  \n",
       "11            0.2080                       71.410000              0.200000  "
      ]
     },
     "execution_count": 33,
     "metadata": {},
     "output_type": "execute_result"
    }
   ],
   "source": [
    "# Concat two dataframes\n",
    "df = pd.concat([df, df_d], axis=1)\n",
    "df = df.loc[:,~df.columns.duplicated()]\n",
    "df"
   ]
  },
  {
   "cell_type": "markdown",
   "metadata": {},
   "source": [
    "## Average Delay Fault Visualization (for each value of Time Interval)"
   ]
  },
  {
   "cell_type": "code",
   "execution_count": 34,
   "metadata": {},
   "outputs": [],
   "source": [
    "import matplotlib.pyplot as plt\n",
    "%matplotlib inline\n",
    "plt.rcParams[\"figure.figsize\"] = [10, 5]"
   ]
  },
  {
   "cell_type": "code",
   "execution_count": 35,
   "metadata": {},
   "outputs": [
    {
     "data": {
      "text/plain": [
       "Text(0, 0.5, 'Average Delay Fault (in ms)')"
      ]
     },
     "execution_count": 35,
     "metadata": {},
     "output_type": "execute_result"
    },
    {
     "data": {
      "image/png": "[encoded data removed]",
      "text/plain": [
       "<Figure size 720x360 with 1 Axes>"
      ]
     },
     "metadata": {
      "needs_background": "light"
     },
     "output_type": "display_data"
    }
   ],
   "source": [
    "df1 = df[df['Time Interval'] == 100.0]\n",
    "df1 = df1.sort_values(by=['Number of PVs'], ascending=True)\n",
    "\n",
    "fig, ax = plt.subplots()\n",
    "df1.plot(x=\"Number of PVs\", y=[\"Avg Delay Fault (in ms) PS\", \"Avg Delay Fault (in ms) Docker\"], kind=\"bar\", ax=ax)\n",
    "ax.legend([\"Physical Server\", \"Docker Deploy\"]);\n",
    "plt.title('Comparison for 100 ms Time Interval')\n",
    "ax.set_ylabel(\"Average Delay Fault (in ms)\")"
   ]
  },
  {
   "cell_type": "code",
   "execution_count": 36,
   "metadata": {},
   "outputs": [
    {
     "data": {
      "text/plain": [
       "Text(0, 0.5, 'Average Delay Fault (in ms)')"
      ]
     },
     "execution_count": 36,
     "metadata": {},
     "output_type": "execute_result"
    },
    {
     "data": {
      "image/png": "[encoded data removed]",
      "text/plain": [
       "<Figure size 720x360 with 1 Axes>"
      ]
     },
     "metadata": {
      "needs_background": "light"
     },
     "output_type": "display_data"
    }
   ],
   "source": [
    "df2 = df[df['Time Interval'] == 50.0]\n",
    "df2 = df2.sort_values(by=['Number of PVs'], ascending=True)\n",
    "\n",
    "fig, ax = plt.subplots()\n",
    "df2.plot(x=\"Number of PVs\", y=[\"Avg Delay Fault (in ms) PS\", \"Avg Delay Fault (in ms) Docker\"], kind=\"bar\", ax=ax)\n",
    "ax.legend([\"Physical Server\", \"Docker Deploy\"]);\n",
    "plt.title('Comparison for 50 ms Time Interval')\n",
    "ax.set_ylabel(\"Average Delay Fault (in ms)\")"
   ]
  },
  {
   "cell_type": "code",
   "execution_count": 37,
   "metadata": {},
   "outputs": [
    {
     "data": {
      "text/plain": [
       "Text(0, 0.5, 'Average Delay Fault (in ms)')"
      ]
     },
     "execution_count": 37,
     "metadata": {},
     "output_type": "execute_result"
    },
    {
     "data": {
      "image/png": "[encoded data removed]",
      "text/plain": [
       "<Figure size 720x360 with 1 Axes>"
      ]
     },
     "metadata": {
      "needs_background": "light"
     },
     "output_type": "display_data"
    }
   ],
   "source": [
    "df3 = df[df['Time Interval'] == 20.0]\n",
    "df3 = df3.sort_values(by=['Number of PVs'], ascending=True)\n",
    "\n",
    "fig, ax = plt.subplots()\n",
    "df3.plot(x=\"Number of PVs\", y=[\"Avg Delay Fault (in ms) PS\", \"Avg Delay Fault (in ms) Docker\"], kind=\"bar\", ax=ax)\n",
    "ax.legend([\"Physical Server\", \"Docker Deploy\"]);\n",
    "plt.title('Comparison for 20 ms Time Interval')\n",
    "ax.set_ylabel(\"Average Delay Fault (in ms)\")"
   ]
  },
  {
   "cell_type": "markdown",
   "metadata": {},
   "source": [
    "## Average Data Loss Visualization (for each value of Time Interval)"
   ]
  },
  {
   "cell_type": "code",
   "execution_count": 38,
   "metadata": {},
   "outputs": [
    {
     "data": {
      "text/plain": [
       "Text(0, 0.5, 'Average Data Loss')"
      ]
     },
     "execution_count": 38,
     "metadata": {},
     "output_type": "execute_result"
    },
    {
     "data": {
      "image/png": "[encoded data removed]",
      "text/plain": [
       "<Figure size 720x360 with 1 Axes>"
      ]
     },
     "metadata": {
      "needs_background": "light"
     },
     "output_type": "display_data"
    }
   ],
   "source": [
    "fig, ax = plt.subplots()\n",
    "df1.plot(x=\"Number of PVs\", y=[\"Avg Data Loss PS\", \"Avg Data Loss Docker\"], kind=\"bar\", ax=ax)\n",
    "ax.legend([\"Physical Server\", \"Docker Deploy\"]);\n",
    "plt.title('Comparison for 100 ms Time Interval')\n",
    "ax.set_ylabel(\"Average Data Loss\")"
   ]
  },
  {
   "cell_type": "code",
   "execution_count": 39,
   "metadata": {},
   "outputs": [
    {
     "data": {
      "text/plain": [
       "Text(0, 0.5, 'Average Data Loss')"
      ]
     },
     "execution_count": 39,
     "metadata": {},
     "output_type": "execute_result"
    },
    {
     "data": {
      "image/png": "[encoded data removed]",
      "text/plain": [
       "<Figure size 720x360 with 1 Axes>"
      ]
     },
     "metadata": {
      "needs_background": "light"
     },
     "output_type": "display_data"
    }
   ],
   "source": [
    "fig, ax = plt.subplots()\n",
    "df2.plot(x=\"Number of PVs\", y=['Avg Data Loss PS', 'Avg Data Loss Docker'], kind=\"bar\", ax=ax)\n",
    "ax.legend([\"Physical Server\", \"Docker Deploy\"]);\n",
    "plt.title('Comparison for 50 ms Time Interval')\n",
    "ax.set_ylabel(\"Average Data Loss\")"
   ]
  },
  {
   "cell_type": "code",
   "execution_count": 40,
   "metadata": {},
   "outputs": [
    {
     "data": {
      "text/plain": [
       "Text(0, 0.5, 'Average Data Loss')"
      ]
     },
     "execution_count": 40,
     "metadata": {},
     "output_type": "execute_result"
    },
    {
     "data": {
      "image/png": "[encoded data removed]",
      "text/plain": [
       "<Figure size 720x360 with 1 Axes>"
      ]
     },
     "metadata": {
      "needs_background": "light"
     },
     "output_type": "display_data"
    }
   ],
   "source": [
    "fig, ax = plt.subplots()\n",
    "df3.plot(x=\"Number of PVs\", y=[\"Avg Data Loss PS\", \"Avg Data Loss Docker\"], kind=\"bar\", ax=ax)\n",
    "ax.legend([\"Physical Server\", \"Docker Deploy\"]);\n",
    "plt.title('Comparison for 20 ms Time Interval')\n",
    "ax.set_ylabel(\"Average Data Loss\")"
   ]
  },
  {
   "cell_type": "code",
   "execution_count": null,
   "metadata": {},
   "outputs": [],
   "source": []
  }
 ],
 "metadata": {
  "kernelspec": {
   "display_name": "Python 3",
   "language": "python",
   "name": "python3"
  },
  "language_info": {
   "codemirror_mode": {
    "name": "ipython",
    "version": 3
   },
   "file_extension": ".py",
   "mimetype": "text/x-python",
   "name": "python",
   "nbconvert_exporter": "python",
   "pygments_lexer": "ipython3",
   "version": "3.7.7"
  }
 },
 "nbformat": 4,
 "nbformat_minor": 4
}
